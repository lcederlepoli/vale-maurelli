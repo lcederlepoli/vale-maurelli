{
 "cells": [
  {
   "cell_type": "markdown",
   "metadata": {},
   "source": [
    "# Fleishman generator"
   ]
  },
  {
   "cell_type": "markdown",
   "metadata": {},
   "source": [
    "### Set-up"
   ]
  },
  {
   "cell_type": "code",
   "execution_count": null,
   "metadata": {},
   "outputs": [],
   "source": [
    "# IPython magic functions\n",
    "%load_ext autoreload\n",
    "%autoreload 2\n",
    "\n",
    "%matplotlib inline"
   ]
  },
  {
   "cell_type": "code",
   "execution_count": null,
   "metadata": {},
   "outputs": [],
   "source": [
    "# Import modules\n",
    "import matplotlib.pyplot as plt\n",
    "import seaborn as sns\n",
    "\n",
    "from vale_maurelli import mvsk\n",
    "from vale_maurelli.fleishman import FleishmanGenerator"
   ]
  },
  {
   "cell_type": "code",
   "execution_count": null,
   "metadata": {},
   "outputs": [],
   "source": [
    "# Set seed\n",
    "SEED = 42"
   ]
  },
  {
   "cell_type": "markdown",
   "metadata": {},
   "source": [
    "### Fleishman random sample generation"
   ]
  },
  {
   "cell_type": "code",
   "execution_count": null,
   "metadata": {},
   "outputs": [],
   "source": [
    "# Instantiate Fleishman generator\n",
    "mean = 0.6\n",
    "var = 2.35\n",
    "skew = -1.89\n",
    "ekurt = 5.41\n",
    "\n",
    "fl_rng = FleishmanGenerator(mean=mean, var=var, skew=skew, ekurt=ekurt)"
   ]
  },
  {
   "cell_type": "code",
   "execution_count": null,
   "metadata": {},
   "outputs": [],
   "source": [
    "# Fit Fleishman generator\n",
    "verbose = 1\n",
    "\n",
    "fl_rng.fit(verbose=verbose)"
   ]
  },
  {
   "cell_type": "code",
   "execution_count": null,
   "metadata": {},
   "outputs": [],
   "source": [
    "# Generate random sample\n",
    "size = int(1e5)\n",
    "\n",
    "fl_sample = fl_rng.sample(size)"
   ]
  },
  {
   "cell_type": "markdown",
   "metadata": {},
   "source": [
    "### Plot and check"
   ]
  },
  {
   "cell_type": "code",
   "execution_count": null,
   "metadata": {},
   "outputs": [],
   "source": [
    "# Plot distribution of generated data\n",
    "stat = 'density'\n",
    "bins = 100\n",
    "kde = False\n",
    "\n",
    "sns.histplot(fl_sample, stat=stat, bins=bins, kde=kde)\n",
    "plt.show()"
   ]
  },
  {
   "cell_type": "code",
   "execution_count": null,
   "metadata": {},
   "outputs": [],
   "source": [
    "# Compare statistics of original vs. generated samples\n",
    "mean_rng, var_rng, skew_rng, ekurt_rng = mvsk.mvsk(fl_sample).values()\n",
    "print(f\"{mean}\\t{mean_rng}\")\n",
    "print(f\"{var}\\t{var_rng}\")\n",
    "print(f\"{skew}\\t{skew_rng}\")\n",
    "print(f\"{ekurt}\\t{ekurt_rng}\")"
   ]
  },
  {
   "cell_type": "code",
   "execution_count": null,
   "metadata": {},
   "outputs": [],
   "source": []
  }
 ],
 "metadata": {
  "kernelspec": {
   "display_name": ".venv",
   "language": "python",
   "name": "python3"
  },
  "language_info": {
   "codemirror_mode": {
    "name": "ipython",
    "version": 3
   },
   "file_extension": ".py",
   "mimetype": "text/x-python",
   "name": "python",
   "nbconvert_exporter": "python",
   "pygments_lexer": "ipython3",
   "version": "3.12.7"
  }
 },
 "nbformat": 4,
 "nbformat_minor": 2
}
